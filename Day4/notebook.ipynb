{
 "cells": [
  {
   "cell_type": "markdown",
   "metadata": {},
   "source": [
    "## Handling Text Data"
   ]
  },
  {
   "cell_type": "code",
   "execution_count": 1,
   "metadata": {},
   "outputs": [],
   "source": [
    "x = 'The movie was fantastic'"
   ]
  },
  {
   "cell_type": "markdown",
   "metadata": {},
   "source": [
    "- This is one datapoint. Here abstractly the `sequence length` is 4, because the sentence has 4 words\n",
    "- Here, each word would be projected into a space of `d` dimension which is called as the embedding space of the words\n",
    "\n",
    "`NOTE` : We discuss here on an high-level considering words in a sentence, but in practice each sentence would be broken into `tokens` which can be considered as a unit of semantic between word and a character. Some words may also be completely taken as a token."
   ]
  },
  {
   "cell_type": "markdown",
   "metadata": {},
   "source": [
    "#### So, text is a sequence data => Sequential information can be processed well by `Recurrent Neural Network`\n",
    "\n",
    "![Recurrent Neural Network](./RNN.jpg)\n",
    "\n",
    "- Here the intermediate outputs in each layer at each time step are called `hidden states` of that layer and the dimension of these vectors may or may not be different from embedding dimension and is called as `hidden state dimension`"
   ]
  },
  {
   "cell_type": "markdown",
   "metadata": {},
   "source": [
    "## RNN in Pytorch"
   ]
  },
  {
   "cell_type": "markdown",
   "metadata": {},
   "source": [
    "#### `nn.RNN(i, h, l)`\n",
    "\n",
    "- `i` - input dimension\n",
    "- `h` - hidden dimension\n",
    "- `l` - number of layers"
   ]
  },
  {
   "cell_type": "markdown",
   "metadata": {},
   "source": [
    "The ouput from `nn.RNN` is a tuple\n",
    "\n",
    "`out, hidden = nn.RNN(...)`\n",
    "\n",
    "- `out` - output from the final layer ($output_0, output_1,.., output_n$ of the $M^{th}$ layer from the diagram)\n",
    "- `hidden` - output from the each intemediate nodes of the final layer ($hidden_N$ from $0_{th}$ layer to $M_{th}$ layer from the diagram)\n",
    "\n",
    "The Fully Connected Neural Network (FNN) is stacked on the `out` for further processing"
   ]
  },
  {
   "cell_type": "markdown",
   "metadata": {},
   "source": [
    "To install all the necessary libraries\n",
    "\n",
    "`pip install torch torchtext portalocker`"
   ]
  },
  {
   "cell_type": "code",
   "execution_count": 2,
   "metadata": {},
   "outputs": [],
   "source": [
    "import torch\n",
    "import torch.nn as nn\n",
    "import torch.optim as optim\n",
    "import torch.nn.functional as f"
   ]
  },
  {
   "cell_type": "markdown",
   "metadata": {},
   "source": [
    "#### Let us create a random dataset\n",
    "\n",
    "`X` has 3 example sentences of 10 tokens, each with an embedding dimension of 5 containing integers between 1 to 10"
   ]
  },
  {
   "cell_type": "code",
   "execution_count": 3,
   "metadata": {},
   "outputs": [],
   "source": [
    "X = torch.randint(1, 10, (3, 10, 5), dtype=torch.float32)\n",
    "y = torch.tensor([1, 0, 1], dtype=torch.long)"
   ]
  },
  {
   "cell_type": "markdown",
   "metadata": {},
   "source": [
    "`Input Dimension` is same as `Embedding Dimension`"
   ]
  },
  {
   "cell_type": "code",
   "execution_count": 4,
   "metadata": {},
   "outputs": [],
   "source": [
    "rnn = nn.RNN(5, 3, 1)"
   ]
  },
  {
   "cell_type": "markdown",
   "metadata": {},
   "source": [
    "The timesteps will be decided internally based on the number of tokens you give as input for a single data point"
   ]
  },
  {
   "cell_type": "markdown",
   "metadata": {},
   "source": [
    "- 5 -> Input Dimension\n",
    "- 3 -> Hidden Dimension\n",
    "- 1 -> No. of Layers"
   ]
  },
  {
   "cell_type": "code",
   "execution_count": null,
   "metadata": {},
   "outputs": [],
   "source": []
  }
 ],
 "metadata": {
  "kernelspec": {
   "display_name": "venv",
   "language": "python",
   "name": "python3"
  },
  "language_info": {
   "codemirror_mode": {
    "name": "ipython",
    "version": 3
   },
   "file_extension": ".py",
   "mimetype": "text/x-python",
   "name": "python",
   "nbconvert_exporter": "python",
   "pygments_lexer": "ipython3",
   "version": "3.11.9"
  }
 },
 "nbformat": 4,
 "nbformat_minor": 2
}
