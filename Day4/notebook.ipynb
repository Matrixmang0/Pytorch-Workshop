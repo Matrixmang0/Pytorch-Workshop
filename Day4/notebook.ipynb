{
 "cells": [
  {
   "cell_type": "markdown",
   "metadata": {},
   "source": [
    "## Handling Text Data"
   ]
  },
  {
   "cell_type": "code",
   "execution_count": 1,
   "metadata": {},
   "outputs": [],
   "source": [
    "x = 'The movie was fantastic'"
   ]
  },
  {
   "cell_type": "markdown",
   "metadata": {},
   "source": [
    "- This is one datapoint. Here abstractly the `sequence length` is 4, because the sentence has 4 words\n",
    "- Here, each word would be projected into a space of `d` dimension which is called as the embedding space of the words\n",
    "\n",
    "`NOTE` : We discuss here on an high-level considering words in a sentence, but in practice each sentence would be broken into `tokens` which can be considered as a unit of semantic between word and a character. Some words may also be completely taken as a token."
   ]
  },
  {
   "cell_type": "markdown",
   "metadata": {},
   "source": [
    "#### So, text is a sequence data => Sequential information can be processed well by `Recurrent Neural Network`\n",
    "\n",
    "![Recurrent Neural Network](./RNN.png)\n",
    "\n",
    "- Here $h_0, h_1,..., h_n$ are called `hidden states` and the dimension of these vectors may or may not be different from embedding dimension and is called as `hidden state dimension`"
   ]
  },
  {
   "cell_type": "markdown",
   "metadata": {},
   "source": [
    "## RNN in Pytorch"
   ]
  },
  {
   "cell_type": "markdown",
   "metadata": {},
   "source": [
    "#### `nn.RNN(i, h, l)`\n",
    "\n",
    "- `i` - input dimension\n",
    "- `h` - hidden dimension\n",
    "- `l` - number of layers"
   ]
  },
  {
   "cell_type": "code",
   "execution_count": null,
   "metadata": {},
   "outputs": [],
   "source": []
  },
  {
   "cell_type": "code",
   "execution_count": null,
   "metadata": {},
   "outputs": [],
   "source": []
  },
  {
   "cell_type": "code",
   "execution_count": null,
   "metadata": {},
   "outputs": [],
   "source": []
  }
 ],
 "metadata": {
  "kernelspec": {
   "display_name": "venv",
   "language": "python",
   "name": "python3"
  },
  "language_info": {
   "codemirror_mode": {
    "name": "ipython",
    "version": 3
   },
   "file_extension": ".py",
   "mimetype": "text/x-python",
   "name": "python",
   "nbconvert_exporter": "python",
   "pygments_lexer": "ipython3",
   "version": "3.11.9"
  }
 },
 "nbformat": 4,
 "nbformat_minor": 2
}
